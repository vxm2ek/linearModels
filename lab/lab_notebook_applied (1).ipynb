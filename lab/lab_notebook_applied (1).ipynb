{
  "cells": [
    {
      "cell_type": "markdown",
      "metadata": {
        "vscode": {
          "languageId": "bat"
        },
        "id": "zqfM2hxRMLYB"
      },
      "source": [
        "# Hedonic Pricing\n",
        "\n",
        "We often try to predict the price of an asset from its observable characteristics. This is generally called **hedonic pricing**: How do the unit's characteristics determine its market price?\n",
        "\n",
        "In the lab folder, there are three options: housing prices in pierce_county_house_sales.csv, car prices in cars_hw.csv, and airbnb rental prices in airbnb_hw.csv. If you know of another suitable dataset, please feel free to use that one.\n",
        "\n",
        "1. Clean the data and perform some EDA and visualization to get to know the data set.\n",
        "2. Transform your variables --- particularly categorical ones --- for use in your regression analysis.\n",
        "3. Implement an ~80/~20 train-test split. Put the test data aside.\n",
        "4. Build some simple linear models that include no transformations or interactions. Fit them, and determine their RMSE and $R^2$ on the both the training and test sets. Which of your models does the best?\n",
        "5. Make partial correlation plots for each of the numeric variables in your model. Do you notice any significant non-linearities?\n",
        "6. Include transformations and interactions of your variables, and build a more complex model that reflects your ideas about how the features of the asset determine its value. Determine its RMSE and $R^2$ on the training and test sets. How does the more complex model your build compare to the simpler ones?\n",
        "7. Summarize your results from 1 to 6. Have you learned anything about overfitting and underfitting, or model selection?\n",
        "8. If you have time, use the sklearn.linear_model.Lasso to regularize your model and select the most predictive features. Which does it select? What are the RMSE and $R^2$? We'll cover the Lasso later in detail in class."
      ]
    },
    {
      "cell_type": "code",
      "source": [
        "import pandas as pd\n",
        "import numpy as np\n",
        "import matplotlib.pyplot as plt\n",
        "import seaborn as sns"
      ],
      "metadata": {
        "id": "ctpqYy5IMRUc"
      },
      "execution_count": 135,
      "outputs": []
    },
    {
      "cell_type": "code",
      "source": [
        "df = pd.read_csv('airbnb_hw.csv')"
      ],
      "metadata": {
        "id": "pIdLC0zbMtjJ"
      },
      "execution_count": 136,
      "outputs": []
    },
    {
      "cell_type": "code",
      "source": [
        "df2 = df.dropna()"
      ],
      "metadata": {
        "id": "NBOf-qrnMxCg"
      },
      "execution_count": 137,
      "outputs": []
    },
    {
      "cell_type": "code",
      "source": [
        "df2.columns"
      ],
      "metadata": {
        "colab": {
          "base_uri": "https://localhost:8080/"
        },
        "id": "Yx_eC4SWPnCc",
        "outputId": "5cf11c5f-68f4-4af7-dfcd-03d28722508b"
      },
      "execution_count": 138,
      "outputs": [
        {
          "output_type": "execute_result",
          "data": {
            "text/plain": [
              "Index(['Host Id', 'Host Since', 'Name', 'Neighbourhood ', 'Property Type',\n",
              "       'Review Scores Rating (bin)', 'Room Type', 'Zipcode', 'Beds',\n",
              "       'Number of Records', 'Number Of Reviews', 'Price',\n",
              "       'Review Scores Rating'],\n",
              "      dtype='object')"
            ]
          },
          "metadata": {},
          "execution_count": 138
        }
      ]
    },
    {
      "cell_type": "code",
      "source": [
        "df2['Host Since'] = pd.to_datetime(df2['Host Since'])\n",
        "df2['Host Since'].unique()"
      ],
      "metadata": {
        "colab": {
          "base_uri": "https://localhost:8080/"
        },
        "id": "HAAxs6biXuKj",
        "outputId": "a2f0aea2-ff18-4dbc-9645-9466ab40d27f"
      },
      "execution_count": 139,
      "outputs": [
        {
          "output_type": "stream",
          "name": "stderr",
          "text": [
            "<ipython-input-139-47f0977d649e>:1: SettingWithCopyWarning: \n",
            "A value is trying to be set on a copy of a slice from a DataFrame.\n",
            "Try using .loc[row_indexer,col_indexer] = value instead\n",
            "\n",
            "See the caveats in the documentation: https://pandas.pydata.org/pandas-docs/stable/user_guide/indexing.html#returning-a-view-versus-a-copy\n",
            "  df2['Host Since'] = pd.to_datetime(df2['Host Since'])\n"
          ]
        },
        {
          "output_type": "execute_result",
          "data": {
            "text/plain": [
              "<DatetimeArray>\n",
              "['2008-06-26 00:00:00', '2008-07-25 00:00:00', '2008-08-12 00:00:00',\n",
              " '2008-08-15 00:00:00', '2008-08-20 00:00:00', '2008-08-27 00:00:00',\n",
              " '2008-09-06 00:00:00', '2008-09-09 00:00:00', '2008-09-10 00:00:00',\n",
              " '2008-09-14 00:00:00',\n",
              " ...\n",
              " '2015-08-14 00:00:00', '2015-08-15 00:00:00', '2015-08-17 00:00:00',\n",
              " '2015-08-18 00:00:00', '2015-08-19 00:00:00', '2015-08-20 00:00:00',\n",
              " '2015-08-21 00:00:00', '2015-08-24 00:00:00', '2015-08-25 00:00:00',\n",
              " '2015-08-27 00:00:00']\n",
              "Length: 2199, dtype: datetime64[ns]"
            ]
          },
          "metadata": {},
          "execution_count": 139
        }
      ]
    },
    {
      "cell_type": "code",
      "source": [
        "df2['Neighbourhood '].unique()"
      ],
      "metadata": {
        "colab": {
          "base_uri": "https://localhost:8080/"
        },
        "id": "0Z1rexglPtBm",
        "outputId": "6304f39b-cd89-43bc-de6a-fb4117c0886d"
      },
      "execution_count": 140,
      "outputs": [
        {
          "output_type": "execute_result",
          "data": {
            "text/plain": [
              "array(['Manhattan', 'Brooklyn', 'Queens', 'Bronx', 'Staten Island'],\n",
              "      dtype=object)"
            ]
          },
          "metadata": {},
          "execution_count": 140
        }
      ]
    },
    {
      "cell_type": "code",
      "source": [
        "room_dummies = pd.get_dummies(df2['Room Type'], prefix='room', drop_first=False)\n",
        "df2 = pd.concat([df2, room_dummies], axis=1)\n"
      ],
      "metadata": {
        "id": "ml9-ORKL8rfa"
      },
      "execution_count": 141,
      "outputs": []
    },
    {
      "cell_type": "code",
      "source": [
        "df2"
      ],
      "metadata": {
        "colab": {
          "base_uri": "https://localhost:8080/",
          "height": 895
        },
        "id": "bF9fnAT3Cy1J",
        "outputId": "cf582eae-95af-4b1d-acb6-8ebfb5f2a39a"
      },
      "execution_count": 142,
      "outputs": [
        {
          "output_type": "execute_result",
          "data": {
            "text/plain": [
              "        Host Id Host Since                                 Name  \\\n",
              "4           500 2008-06-26             Trendy Times Square Loft   \n",
              "5          1039 2008-07-25   Big Greenpoint 1BD w/ Skyline View   \n",
              "6          1783 2008-08-12                         Amazing Also   \n",
              "7          2078 2008-08-15  Colorful, quiet, & near the subway!   \n",
              "8          2339 2008-08-20  East Village Cocoon: 2 Bedroom Flat   \n",
              "...         ...        ...                                  ...   \n",
              "30332  42349033 2015-08-24     Cute cozy studio in east village   \n",
              "30347  42430249 2015-08-24           Room in new spacious loft!   \n",
              "30378  42518458 2015-08-25   Williamsburg Luxury Loft!??Bed Top   \n",
              "30404  42697124 2015-08-27  Cute, Clean Room- East Williamsburg   \n",
              "30409  42726605 2015-08-27    Cozy and Near Tourist Attractions   \n",
              "\n",
              "      Neighbourhood  Property Type  Review Scores Rating (bin)  \\\n",
              "4          Manhattan     Apartment                        95.0   \n",
              "5           Brooklyn     Apartment                       100.0   \n",
              "6          Manhattan     Apartment                       100.0   \n",
              "7           Brooklyn     Apartment                        90.0   \n",
              "8          Manhattan     Apartment                        90.0   \n",
              "...              ...           ...                         ...   \n",
              "30332      Manhattan     Apartment                       100.0   \n",
              "30347       Brooklyn     Apartment                        80.0   \n",
              "30378       Brooklyn          Loft                       100.0   \n",
              "30404       Brooklyn     Apartment                       100.0   \n",
              "30409      Manhattan     Apartment                        80.0   \n",
              "\n",
              "             Room Type  Zipcode  Beds  Number of Records  Number Of Reviews  \\\n",
              "4         Private room  10036.0   3.0                  1                 39   \n",
              "5      Entire home/apt  11222.0   1.0                  1                  4   \n",
              "6      Entire home/apt  10004.0   1.0                  1                  9   \n",
              "7         Private room  11201.0   1.0                  1                 80   \n",
              "8      Entire home/apt  10009.0   2.0                  1                 95   \n",
              "...                ...      ...   ...                ...                ...   \n",
              "30332  Entire home/apt  10003.0   1.0                  1                  1   \n",
              "30347     Private room  11222.0   1.0                  1                  1   \n",
              "30378      Shared room  11206.0   1.0                  1                  1   \n",
              "30404     Private room  11206.0   1.0                  1                  1   \n",
              "30409     Private room  10002.0   1.0                  1                  1   \n",
              "\n",
              "      Price  Review Scores Rating  room_Entire home/apt  room_Private room  \\\n",
              "4       549                  96.0                 False               True   \n",
              "5       149                 100.0                  True              False   \n",
              "6       250                 100.0                  True              False   \n",
              "7        90                  94.0                 False               True   \n",
              "8       270                  90.0                  True              False   \n",
              "...     ...                   ...                   ...                ...   \n",
              "30332    90                 100.0                  True              False   \n",
              "30347    65                  80.0                 False               True   \n",
              "30378    55                 100.0                 False              False   \n",
              "30404    60                 100.0                 False               True   \n",
              "30409    99                  80.0                 False               True   \n",
              "\n",
              "       room_Shared room  \n",
              "4                 False  \n",
              "5                 False  \n",
              "6                 False  \n",
              "7                 False  \n",
              "8                 False  \n",
              "...                 ...  \n",
              "30332             False  \n",
              "30347             False  \n",
              "30378              True  \n",
              "30404             False  \n",
              "30409             False  \n",
              "\n",
              "[22010 rows x 16 columns]"
            ],
            "text/html": [
              "\n",
              "  <div id=\"df-76da85bb-bbc0-4605-ab65-f558cde89c28\" class=\"colab-df-container\">\n",
              "    <div>\n",
              "<style scoped>\n",
              "    .dataframe tbody tr th:only-of-type {\n",
              "        vertical-align: middle;\n",
              "    }\n",
              "\n",
              "    .dataframe tbody tr th {\n",
              "        vertical-align: top;\n",
              "    }\n",
              "\n",
              "    .dataframe thead th {\n",
              "        text-align: right;\n",
              "    }\n",
              "</style>\n",
              "<table border=\"1\" class=\"dataframe\">\n",
              "  <thead>\n",
              "    <tr style=\"text-align: right;\">\n",
              "      <th></th>\n",
              "      <th>Host Id</th>\n",
              "      <th>Host Since</th>\n",
              "      <th>Name</th>\n",
              "      <th>Neighbourhood</th>\n",
              "      <th>Property Type</th>\n",
              "      <th>Review Scores Rating (bin)</th>\n",
              "      <th>Room Type</th>\n",
              "      <th>Zipcode</th>\n",
              "      <th>Beds</th>\n",
              "      <th>Number of Records</th>\n",
              "      <th>Number Of Reviews</th>\n",
              "      <th>Price</th>\n",
              "      <th>Review Scores Rating</th>\n",
              "      <th>room_Entire home/apt</th>\n",
              "      <th>room_Private room</th>\n",
              "      <th>room_Shared room</th>\n",
              "    </tr>\n",
              "  </thead>\n",
              "  <tbody>\n",
              "    <tr>\n",
              "      <th>4</th>\n",
              "      <td>500</td>\n",
              "      <td>2008-06-26</td>\n",
              "      <td>Trendy Times Square Loft</td>\n",
              "      <td>Manhattan</td>\n",
              "      <td>Apartment</td>\n",
              "      <td>95.0</td>\n",
              "      <td>Private room</td>\n",
              "      <td>10036.0</td>\n",
              "      <td>3.0</td>\n",
              "      <td>1</td>\n",
              "      <td>39</td>\n",
              "      <td>549</td>\n",
              "      <td>96.0</td>\n",
              "      <td>False</td>\n",
              "      <td>True</td>\n",
              "      <td>False</td>\n",
              "    </tr>\n",
              "    <tr>\n",
              "      <th>5</th>\n",
              "      <td>1039</td>\n",
              "      <td>2008-07-25</td>\n",
              "      <td>Big Greenpoint 1BD w/ Skyline View</td>\n",
              "      <td>Brooklyn</td>\n",
              "      <td>Apartment</td>\n",
              "      <td>100.0</td>\n",
              "      <td>Entire home/apt</td>\n",
              "      <td>11222.0</td>\n",
              "      <td>1.0</td>\n",
              "      <td>1</td>\n",
              "      <td>4</td>\n",
              "      <td>149</td>\n",
              "      <td>100.0</td>\n",
              "      <td>True</td>\n",
              "      <td>False</td>\n",
              "      <td>False</td>\n",
              "    </tr>\n",
              "    <tr>\n",
              "      <th>6</th>\n",
              "      <td>1783</td>\n",
              "      <td>2008-08-12</td>\n",
              "      <td>Amazing Also</td>\n",
              "      <td>Manhattan</td>\n",
              "      <td>Apartment</td>\n",
              "      <td>100.0</td>\n",
              "      <td>Entire home/apt</td>\n",
              "      <td>10004.0</td>\n",
              "      <td>1.0</td>\n",
              "      <td>1</td>\n",
              "      <td>9</td>\n",
              "      <td>250</td>\n",
              "      <td>100.0</td>\n",
              "      <td>True</td>\n",
              "      <td>False</td>\n",
              "      <td>False</td>\n",
              "    </tr>\n",
              "    <tr>\n",
              "      <th>7</th>\n",
              "      <td>2078</td>\n",
              "      <td>2008-08-15</td>\n",
              "      <td>Colorful, quiet, &amp; near the subway!</td>\n",
              "      <td>Brooklyn</td>\n",
              "      <td>Apartment</td>\n",
              "      <td>90.0</td>\n",
              "      <td>Private room</td>\n",
              "      <td>11201.0</td>\n",
              "      <td>1.0</td>\n",
              "      <td>1</td>\n",
              "      <td>80</td>\n",
              "      <td>90</td>\n",
              "      <td>94.0</td>\n",
              "      <td>False</td>\n",
              "      <td>True</td>\n",
              "      <td>False</td>\n",
              "    </tr>\n",
              "    <tr>\n",
              "      <th>8</th>\n",
              "      <td>2339</td>\n",
              "      <td>2008-08-20</td>\n",
              "      <td>East Village Cocoon: 2 Bedroom Flat</td>\n",
              "      <td>Manhattan</td>\n",
              "      <td>Apartment</td>\n",
              "      <td>90.0</td>\n",
              "      <td>Entire home/apt</td>\n",
              "      <td>10009.0</td>\n",
              "      <td>2.0</td>\n",
              "      <td>1</td>\n",
              "      <td>95</td>\n",
              "      <td>270</td>\n",
              "      <td>90.0</td>\n",
              "      <td>True</td>\n",
              "      <td>False</td>\n",
              "      <td>False</td>\n",
              "    </tr>\n",
              "    <tr>\n",
              "      <th>...</th>\n",
              "      <td>...</td>\n",
              "      <td>...</td>\n",
              "      <td>...</td>\n",
              "      <td>...</td>\n",
              "      <td>...</td>\n",
              "      <td>...</td>\n",
              "      <td>...</td>\n",
              "      <td>...</td>\n",
              "      <td>...</td>\n",
              "      <td>...</td>\n",
              "      <td>...</td>\n",
              "      <td>...</td>\n",
              "      <td>...</td>\n",
              "      <td>...</td>\n",
              "      <td>...</td>\n",
              "      <td>...</td>\n",
              "    </tr>\n",
              "    <tr>\n",
              "      <th>30332</th>\n",
              "      <td>42349033</td>\n",
              "      <td>2015-08-24</td>\n",
              "      <td>Cute cozy studio in east village</td>\n",
              "      <td>Manhattan</td>\n",
              "      <td>Apartment</td>\n",
              "      <td>100.0</td>\n",
              "      <td>Entire home/apt</td>\n",
              "      <td>10003.0</td>\n",
              "      <td>1.0</td>\n",
              "      <td>1</td>\n",
              "      <td>1</td>\n",
              "      <td>90</td>\n",
              "      <td>100.0</td>\n",
              "      <td>True</td>\n",
              "      <td>False</td>\n",
              "      <td>False</td>\n",
              "    </tr>\n",
              "    <tr>\n",
              "      <th>30347</th>\n",
              "      <td>42430249</td>\n",
              "      <td>2015-08-24</td>\n",
              "      <td>Room in new spacious loft!</td>\n",
              "      <td>Brooklyn</td>\n",
              "      <td>Apartment</td>\n",
              "      <td>80.0</td>\n",
              "      <td>Private room</td>\n",
              "      <td>11222.0</td>\n",
              "      <td>1.0</td>\n",
              "      <td>1</td>\n",
              "      <td>1</td>\n",
              "      <td>65</td>\n",
              "      <td>80.0</td>\n",
              "      <td>False</td>\n",
              "      <td>True</td>\n",
              "      <td>False</td>\n",
              "    </tr>\n",
              "    <tr>\n",
              "      <th>30378</th>\n",
              "      <td>42518458</td>\n",
              "      <td>2015-08-25</td>\n",
              "      <td>Williamsburg Luxury Loft!??Bed Top</td>\n",
              "      <td>Brooklyn</td>\n",
              "      <td>Loft</td>\n",
              "      <td>100.0</td>\n",
              "      <td>Shared room</td>\n",
              "      <td>11206.0</td>\n",
              "      <td>1.0</td>\n",
              "      <td>1</td>\n",
              "      <td>1</td>\n",
              "      <td>55</td>\n",
              "      <td>100.0</td>\n",
              "      <td>False</td>\n",
              "      <td>False</td>\n",
              "      <td>True</td>\n",
              "    </tr>\n",
              "    <tr>\n",
              "      <th>30404</th>\n",
              "      <td>42697124</td>\n",
              "      <td>2015-08-27</td>\n",
              "      <td>Cute, Clean Room- East Williamsburg</td>\n",
              "      <td>Brooklyn</td>\n",
              "      <td>Apartment</td>\n",
              "      <td>100.0</td>\n",
              "      <td>Private room</td>\n",
              "      <td>11206.0</td>\n",
              "      <td>1.0</td>\n",
              "      <td>1</td>\n",
              "      <td>1</td>\n",
              "      <td>60</td>\n",
              "      <td>100.0</td>\n",
              "      <td>False</td>\n",
              "      <td>True</td>\n",
              "      <td>False</td>\n",
              "    </tr>\n",
              "    <tr>\n",
              "      <th>30409</th>\n",
              "      <td>42726605</td>\n",
              "      <td>2015-08-27</td>\n",
              "      <td>Cozy and Near Tourist Attractions</td>\n",
              "      <td>Manhattan</td>\n",
              "      <td>Apartment</td>\n",
              "      <td>80.0</td>\n",
              "      <td>Private room</td>\n",
              "      <td>10002.0</td>\n",
              "      <td>1.0</td>\n",
              "      <td>1</td>\n",
              "      <td>1</td>\n",
              "      <td>99</td>\n",
              "      <td>80.0</td>\n",
              "      <td>False</td>\n",
              "      <td>True</td>\n",
              "      <td>False</td>\n",
              "    </tr>\n",
              "  </tbody>\n",
              "</table>\n",
              "<p>22010 rows × 16 columns</p>\n",
              "</div>\n",
              "    <div class=\"colab-df-buttons\">\n",
              "\n",
              "  <div class=\"colab-df-container\">\n",
              "    <button class=\"colab-df-convert\" onclick=\"convertToInteractive('df-76da85bb-bbc0-4605-ab65-f558cde89c28')\"\n",
              "            title=\"Convert this dataframe to an interactive table.\"\n",
              "            style=\"display:none;\">\n",
              "\n",
              "  <svg xmlns=\"http://www.w3.org/2000/svg\" height=\"24px\" viewBox=\"0 -960 960 960\">\n",
              "    <path d=\"M120-120v-720h720v720H120Zm60-500h600v-160H180v160Zm220 220h160v-160H400v160Zm0 220h160v-160H400v160ZM180-400h160v-160H180v160Zm440 0h160v-160H620v160ZM180-180h160v-160H180v160Zm440 0h160v-160H620v160Z\"/>\n",
              "  </svg>\n",
              "    </button>\n",
              "\n",
              "  <style>\n",
              "    .colab-df-container {\n",
              "      display:flex;\n",
              "      gap: 12px;\n",
              "    }\n",
              "\n",
              "    .colab-df-convert {\n",
              "      background-color: #E8F0FE;\n",
              "      border: none;\n",
              "      border-radius: 50%;\n",
              "      cursor: pointer;\n",
              "      display: none;\n",
              "      fill: #1967D2;\n",
              "      height: 32px;\n",
              "      padding: 0 0 0 0;\n",
              "      width: 32px;\n",
              "    }\n",
              "\n",
              "    .colab-df-convert:hover {\n",
              "      background-color: #E2EBFA;\n",
              "      box-shadow: 0px 1px 2px rgba(60, 64, 67, 0.3), 0px 1px 3px 1px rgba(60, 64, 67, 0.15);\n",
              "      fill: #174EA6;\n",
              "    }\n",
              "\n",
              "    .colab-df-buttons div {\n",
              "      margin-bottom: 4px;\n",
              "    }\n",
              "\n",
              "    [theme=dark] .colab-df-convert {\n",
              "      background-color: #3B4455;\n",
              "      fill: #D2E3FC;\n",
              "    }\n",
              "\n",
              "    [theme=dark] .colab-df-convert:hover {\n",
              "      background-color: #434B5C;\n",
              "      box-shadow: 0px 1px 3px 1px rgba(0, 0, 0, 0.15);\n",
              "      filter: drop-shadow(0px 1px 2px rgba(0, 0, 0, 0.3));\n",
              "      fill: #FFFFFF;\n",
              "    }\n",
              "  </style>\n",
              "\n",
              "    <script>\n",
              "      const buttonEl =\n",
              "        document.querySelector('#df-76da85bb-bbc0-4605-ab65-f558cde89c28 button.colab-df-convert');\n",
              "      buttonEl.style.display =\n",
              "        google.colab.kernel.accessAllowed ? 'block' : 'none';\n",
              "\n",
              "      async function convertToInteractive(key) {\n",
              "        const element = document.querySelector('#df-76da85bb-bbc0-4605-ab65-f558cde89c28');\n",
              "        const dataTable =\n",
              "          await google.colab.kernel.invokeFunction('convertToInteractive',\n",
              "                                                    [key], {});\n",
              "        if (!dataTable) return;\n",
              "\n",
              "        const docLinkHtml = 'Like what you see? Visit the ' +\n",
              "          '<a target=\"_blank\" href=https://colab.research.google.com/notebooks/data_table.ipynb>data table notebook</a>'\n",
              "          + ' to learn more about interactive tables.';\n",
              "        element.innerHTML = '';\n",
              "        dataTable['output_type'] = 'display_data';\n",
              "        await google.colab.output.renderOutput(dataTable, element);\n",
              "        const docLink = document.createElement('div');\n",
              "        docLink.innerHTML = docLinkHtml;\n",
              "        element.appendChild(docLink);\n",
              "      }\n",
              "    </script>\n",
              "  </div>\n",
              "\n",
              "\n",
              "<div id=\"df-d7866d21-87ac-4a99-8ad8-53d53b108652\">\n",
              "  <button class=\"colab-df-quickchart\" onclick=\"quickchart('df-d7866d21-87ac-4a99-8ad8-53d53b108652')\"\n",
              "            title=\"Suggest charts\"\n",
              "            style=\"display:none;\">\n",
              "\n",
              "<svg xmlns=\"http://www.w3.org/2000/svg\" height=\"24px\"viewBox=\"0 0 24 24\"\n",
              "     width=\"24px\">\n",
              "    <g>\n",
              "        <path d=\"M19 3H5c-1.1 0-2 .9-2 2v14c0 1.1.9 2 2 2h14c1.1 0 2-.9 2-2V5c0-1.1-.9-2-2-2zM9 17H7v-7h2v7zm4 0h-2V7h2v10zm4 0h-2v-4h2v4z\"/>\n",
              "    </g>\n",
              "</svg>\n",
              "  </button>\n",
              "\n",
              "<style>\n",
              "  .colab-df-quickchart {\n",
              "      --bg-color: #E8F0FE;\n",
              "      --fill-color: #1967D2;\n",
              "      --hover-bg-color: #E2EBFA;\n",
              "      --hover-fill-color: #174EA6;\n",
              "      --disabled-fill-color: #AAA;\n",
              "      --disabled-bg-color: #DDD;\n",
              "  }\n",
              "\n",
              "  [theme=dark] .colab-df-quickchart {\n",
              "      --bg-color: #3B4455;\n",
              "      --fill-color: #D2E3FC;\n",
              "      --hover-bg-color: #434B5C;\n",
              "      --hover-fill-color: #FFFFFF;\n",
              "      --disabled-bg-color: #3B4455;\n",
              "      --disabled-fill-color: #666;\n",
              "  }\n",
              "\n",
              "  .colab-df-quickchart {\n",
              "    background-color: var(--bg-color);\n",
              "    border: none;\n",
              "    border-radius: 50%;\n",
              "    cursor: pointer;\n",
              "    display: none;\n",
              "    fill: var(--fill-color);\n",
              "    height: 32px;\n",
              "    padding: 0;\n",
              "    width: 32px;\n",
              "  }\n",
              "\n",
              "  .colab-df-quickchart:hover {\n",
              "    background-color: var(--hover-bg-color);\n",
              "    box-shadow: 0 1px 2px rgba(60, 64, 67, 0.3), 0 1px 3px 1px rgba(60, 64, 67, 0.15);\n",
              "    fill: var(--button-hover-fill-color);\n",
              "  }\n",
              "\n",
              "  .colab-df-quickchart-complete:disabled,\n",
              "  .colab-df-quickchart-complete:disabled:hover {\n",
              "    background-color: var(--disabled-bg-color);\n",
              "    fill: var(--disabled-fill-color);\n",
              "    box-shadow: none;\n",
              "  }\n",
              "\n",
              "  .colab-df-spinner {\n",
              "    border: 2px solid var(--fill-color);\n",
              "    border-color: transparent;\n",
              "    border-bottom-color: var(--fill-color);\n",
              "    animation:\n",
              "      spin 1s steps(1) infinite;\n",
              "  }\n",
              "\n",
              "  @keyframes spin {\n",
              "    0% {\n",
              "      border-color: transparent;\n",
              "      border-bottom-color: var(--fill-color);\n",
              "      border-left-color: var(--fill-color);\n",
              "    }\n",
              "    20% {\n",
              "      border-color: transparent;\n",
              "      border-left-color: var(--fill-color);\n",
              "      border-top-color: var(--fill-color);\n",
              "    }\n",
              "    30% {\n",
              "      border-color: transparent;\n",
              "      border-left-color: var(--fill-color);\n",
              "      border-top-color: var(--fill-color);\n",
              "      border-right-color: var(--fill-color);\n",
              "    }\n",
              "    40% {\n",
              "      border-color: transparent;\n",
              "      border-right-color: var(--fill-color);\n",
              "      border-top-color: var(--fill-color);\n",
              "    }\n",
              "    60% {\n",
              "      border-color: transparent;\n",
              "      border-right-color: var(--fill-color);\n",
              "    }\n",
              "    80% {\n",
              "      border-color: transparent;\n",
              "      border-right-color: var(--fill-color);\n",
              "      border-bottom-color: var(--fill-color);\n",
              "    }\n",
              "    90% {\n",
              "      border-color: transparent;\n",
              "      border-bottom-color: var(--fill-color);\n",
              "    }\n",
              "  }\n",
              "</style>\n",
              "\n",
              "  <script>\n",
              "    async function quickchart(key) {\n",
              "      const quickchartButtonEl =\n",
              "        document.querySelector('#' + key + ' button');\n",
              "      quickchartButtonEl.disabled = true;  // To prevent multiple clicks.\n",
              "      quickchartButtonEl.classList.add('colab-df-spinner');\n",
              "      try {\n",
              "        const charts = await google.colab.kernel.invokeFunction(\n",
              "            'suggestCharts', [key], {});\n",
              "      } catch (error) {\n",
              "        console.error('Error during call to suggestCharts:', error);\n",
              "      }\n",
              "      quickchartButtonEl.classList.remove('colab-df-spinner');\n",
              "      quickchartButtonEl.classList.add('colab-df-quickchart-complete');\n",
              "    }\n",
              "    (() => {\n",
              "      let quickchartButtonEl =\n",
              "        document.querySelector('#df-d7866d21-87ac-4a99-8ad8-53d53b108652 button');\n",
              "      quickchartButtonEl.style.display =\n",
              "        google.colab.kernel.accessAllowed ? 'block' : 'none';\n",
              "    })();\n",
              "  </script>\n",
              "</div>\n",
              "\n",
              "  <div id=\"id_2c0321da-f37e-4f3e-bc72-19603a3c6ba4\">\n",
              "    <style>\n",
              "      .colab-df-generate {\n",
              "        background-color: #E8F0FE;\n",
              "        border: none;\n",
              "        border-radius: 50%;\n",
              "        cursor: pointer;\n",
              "        display: none;\n",
              "        fill: #1967D2;\n",
              "        height: 32px;\n",
              "        padding: 0 0 0 0;\n",
              "        width: 32px;\n",
              "      }\n",
              "\n",
              "      .colab-df-generate:hover {\n",
              "        background-color: #E2EBFA;\n",
              "        box-shadow: 0px 1px 2px rgba(60, 64, 67, 0.3), 0px 1px 3px 1px rgba(60, 64, 67, 0.15);\n",
              "        fill: #174EA6;\n",
              "      }\n",
              "\n",
              "      [theme=dark] .colab-df-generate {\n",
              "        background-color: #3B4455;\n",
              "        fill: #D2E3FC;\n",
              "      }\n",
              "\n",
              "      [theme=dark] .colab-df-generate:hover {\n",
              "        background-color: #434B5C;\n",
              "        box-shadow: 0px 1px 3px 1px rgba(0, 0, 0, 0.15);\n",
              "        filter: drop-shadow(0px 1px 2px rgba(0, 0, 0, 0.3));\n",
              "        fill: #FFFFFF;\n",
              "      }\n",
              "    </style>\n",
              "    <button class=\"colab-df-generate\" onclick=\"generateWithVariable('df2')\"\n",
              "            title=\"Generate code using this dataframe.\"\n",
              "            style=\"display:none;\">\n",
              "\n",
              "  <svg xmlns=\"http://www.w3.org/2000/svg\" height=\"24px\"viewBox=\"0 0 24 24\"\n",
              "       width=\"24px\">\n",
              "    <path d=\"M7,19H8.4L18.45,9,17,7.55,7,17.6ZM5,21V16.75L18.45,3.32a2,2,0,0,1,2.83,0l1.4,1.43a1.91,1.91,0,0,1,.58,1.4,1.91,1.91,0,0,1-.58,1.4L9.25,21ZM18.45,9,17,7.55Zm-12,3A5.31,5.31,0,0,0,4.9,8.1,5.31,5.31,0,0,0,1,6.5,5.31,5.31,0,0,0,4.9,4.9,5.31,5.31,0,0,0,6.5,1,5.31,5.31,0,0,0,8.1,4.9,5.31,5.31,0,0,0,12,6.5,5.46,5.46,0,0,0,6.5,12Z\"/>\n",
              "  </svg>\n",
              "    </button>\n",
              "    <script>\n",
              "      (() => {\n",
              "      const buttonEl =\n",
              "        document.querySelector('#id_2c0321da-f37e-4f3e-bc72-19603a3c6ba4 button.colab-df-generate');\n",
              "      buttonEl.style.display =\n",
              "        google.colab.kernel.accessAllowed ? 'block' : 'none';\n",
              "\n",
              "      buttonEl.onclick = () => {\n",
              "        google.colab.notebook.generateWithVariable('df2');\n",
              "      }\n",
              "      })();\n",
              "    </script>\n",
              "  </div>\n",
              "\n",
              "    </div>\n",
              "  </div>\n"
            ],
            "application/vnd.google.colaboratory.intrinsic+json": {
              "type": "dataframe",
              "variable_name": "df2",
              "summary": "{\n  \"name\": \"df2\",\n  \"rows\": 22010,\n  \"fields\": [\n    {\n      \"column\": \"Host Id\",\n      \"properties\": {\n        \"dtype\": \"number\",\n        \"std\": 10800685,\n        \"min\": 500,\n        \"max\": 42726605,\n        \"num_unique_values\": 17744,\n        \"samples\": [\n          124357,\n          4532557,\n          25741759\n        ],\n        \"semantic_type\": \"\",\n        \"description\": \"\"\n      }\n    },\n    {\n      \"column\": \"Host Since\",\n      \"properties\": {\n        \"dtype\": \"date\",\n        \"min\": \"2008-06-26 00:00:00\",\n        \"max\": \"2015-08-27 00:00:00\",\n        \"num_unique_values\": 2199,\n        \"samples\": [\n          \"2010-10-10 00:00:00\",\n          \"2012-09-17 00:00:00\",\n          \"2010-08-06 00:00:00\"\n        ],\n        \"semantic_type\": \"\",\n        \"description\": \"\"\n      }\n    },\n    {\n      \"column\": \"Name\",\n      \"properties\": {\n        \"dtype\": \"string\",\n        \"num_unique_values\": 21471,\n        \"samples\": [\n          \"2BR/1BA:Great Location Williamsburg\",\n          \"3br spacious and lovely apartment\",\n          \"Beautiful Light Apt Red Hook, Bklyn\"\n        ],\n        \"semantic_type\": \"\",\n        \"description\": \"\"\n      }\n    },\n    {\n      \"column\": \"Neighbourhood \",\n      \"properties\": {\n        \"dtype\": \"category\",\n        \"num_unique_values\": 5,\n        \"samples\": [\n          \"Brooklyn\",\n          \"Staten Island\",\n          \"Queens\"\n        ],\n        \"semantic_type\": \"\",\n        \"description\": \"\"\n      }\n    },\n    {\n      \"column\": \"Property Type\",\n      \"properties\": {\n        \"dtype\": \"category\",\n        \"num_unique_values\": 18,\n        \"samples\": [\n          \"Apartment\",\n          \"Other\",\n          \"Boat\"\n        ],\n        \"semantic_type\": \"\",\n        \"description\": \"\"\n      }\n    },\n    {\n      \"column\": \"Review Scores Rating (bin)\",\n      \"properties\": {\n        \"dtype\": \"number\",\n        \"std\": 9.069740266833142,\n        \"min\": 20.0,\n        \"max\": 100.0,\n        \"num_unique_values\": 15,\n        \"samples\": [\n          40.0,\n          20.0,\n          95.0\n        ],\n        \"semantic_type\": \"\",\n        \"description\": \"\"\n      }\n    },\n    {\n      \"column\": \"Room Type\",\n      \"properties\": {\n        \"dtype\": \"category\",\n        \"num_unique_values\": 3,\n        \"samples\": [\n          \"Private room\",\n          \"Entire home/apt\",\n          \"Shared room\"\n        ],\n        \"semantic_type\": \"\",\n        \"description\": \"\"\n      }\n    },\n    {\n      \"column\": \"Zipcode\",\n      \"properties\": {\n        \"dtype\": \"number\",\n        \"std\": 597.744309546394,\n        \"min\": 7105.0,\n        \"max\": 11694.0,\n        \"num_unique_values\": 178,\n        \"samples\": [\n          10027.0,\n          10012.0,\n          11219.0\n        ],\n        \"semantic_type\": \"\",\n        \"description\": \"\"\n      }\n    },\n    {\n      \"column\": \"Beds\",\n      \"properties\": {\n        \"dtype\": \"number\",\n        \"std\": 1.0433735804539062,\n        \"min\": 0.0,\n        \"max\": 16.0,\n        \"num_unique_values\": 14,\n        \"samples\": [\n          12.0,\n          16.0,\n          3.0\n        ],\n        \"semantic_type\": \"\",\n        \"description\": \"\"\n      }\n    },\n    {\n      \"column\": \"Number of Records\",\n      \"properties\": {\n        \"dtype\": \"number\",\n        \"std\": 0,\n        \"min\": 1,\n        \"max\": 1,\n        \"num_unique_values\": 1,\n        \"samples\": [\n          1\n        ],\n        \"semantic_type\": \"\",\n        \"description\": \"\"\n      }\n    },\n    {\n      \"column\": \"Number Of Reviews\",\n      \"properties\": {\n        \"dtype\": \"number\",\n        \"std\": 24,\n        \"min\": 1,\n        \"max\": 257,\n        \"num_unique_values\": 204,\n        \"samples\": [\n          16\n        ],\n        \"semantic_type\": \"\",\n        \"description\": \"\"\n      }\n    },\n    {\n      \"column\": \"Price\",\n      \"properties\": {\n        \"dtype\": \"category\",\n        \"num_unique_values\": 462,\n        \"samples\": [\n          \"242\"\n        ],\n        \"semantic_type\": \"\",\n        \"description\": \"\"\n      }\n    },\n    {\n      \"column\": \"Review Scores Rating\",\n      \"properties\": {\n        \"dtype\": \"number\",\n        \"std\": 8.86088992797919,\n        \"min\": 20.0,\n        \"max\": 100.0,\n        \"num_unique_values\": 51,\n        \"samples\": [\n          58.0\n        ],\n        \"semantic_type\": \"\",\n        \"description\": \"\"\n      }\n    },\n    {\n      \"column\": \"room_Entire home/apt\",\n      \"properties\": {\n        \"dtype\": \"boolean\",\n        \"num_unique_values\": 2,\n        \"samples\": [\n          true\n        ],\n        \"semantic_type\": \"\",\n        \"description\": \"\"\n      }\n    },\n    {\n      \"column\": \"room_Private room\",\n      \"properties\": {\n        \"dtype\": \"boolean\",\n        \"num_unique_values\": 2,\n        \"samples\": [\n          false\n        ],\n        \"semantic_type\": \"\",\n        \"description\": \"\"\n      }\n    },\n    {\n      \"column\": \"room_Shared room\",\n      \"properties\": {\n        \"dtype\": \"boolean\",\n        \"num_unique_values\": 2,\n        \"samples\": [\n          true\n        ],\n        \"semantic_type\": \"\",\n        \"description\": \"\"\n      }\n    }\n  ]\n}"
            }
          },
          "metadata": {},
          "execution_count": 142
        }
      ]
    },
    {
      "cell_type": "code",
      "source": [
        "from sklearn.preprocessing import LabelEncoder\n",
        "\n",
        "df2['Neighbourhood '] = LabelEncoder().fit_transform(df2['Neighbourhood '])\n",
        "df2['Property Type'] = LabelEncoder().fit_transform(df2['Property Type'])\n",
        "df2['Room Type'] = LabelEncoder().fit_transform(df2['Room Type'])"
      ],
      "metadata": {
        "id": "TnVXvPJWP_k2"
      },
      "execution_count": 143,
      "outputs": []
    },
    {
      "cell_type": "code",
      "source": [
        "df2['Price'] = df2['Price'].str.replace(',', '').astype(float)"
      ],
      "metadata": {
        "id": "DtijDzqRSE3o"
      },
      "execution_count": 144,
      "outputs": []
    },
    {
      "cell_type": "code",
      "source": [
        "sns.scatterplot(x='Review Scores Rating', y='Price', data=df2)\n",
        "plt.title('Price vs Rating')\n",
        "plt.show()"
      ],
      "metadata": {
        "colab": {
          "base_uri": "https://localhost:8080/",
          "height": 472
        },
        "id": "oNbKTenDXmCx",
        "outputId": "47ad59a4-613f-4e34-f13c-e4006ebc3871"
      },
      "execution_count": 145,
      "outputs": [
        {
          "output_type": "display_data",
          "data": {
            "text/plain": [
              "<Figure size 640x480 with 1 Axes>"
            ],
            "image/png": "[encoded data removed]"
          },
          "metadata": {}
        }
      ]
    },
    {
      "cell_type": "code",
      "source": [
        "sns.boxplot(x='Room Type', y='Price', data=df2)\n",
        "plt.title('Price by Room Type')\n",
        "plt.yscale('log')\n",
        "plt.show()"
      ],
      "metadata": {
        "colab": {
          "base_uri": "https://localhost:8080/",
          "height": 472
        },
        "id": "NAVPnvYAZEfe",
        "outputId": "937ced8e-8ef0-4922-bb9f-f18d4f7d7a7f"
      },
      "execution_count": 146,
      "outputs": [
        {
          "output_type": "display_data",
          "data": {
            "text/plain": [
              "<Figure size 640x480 with 1 Axes>"
            ],
            "image/png": "[encoded data removed]"
          },
          "metadata": {}
        }
      ]
    },
    {
      "cell_type": "code",
      "source": [
        "le = LabelEncoder()\n",
        "le.fit(df['Room Type'])\n",
        "\n",
        "dict(zip(le.classes_, le.transform(le.classes_)))"
      ],
      "metadata": {
        "colab": {
          "base_uri": "https://localhost:8080/"
        },
        "id": "34nFpd6FZltv",
        "outputId": "8f90f28f-5a3d-48e2-b0e1-4178820bdf37"
      },
      "execution_count": 147,
      "outputs": [
        {
          "output_type": "execute_result",
          "data": {
            "text/plain": [
              "{'Entire home/apt': np.int64(0),\n",
              " 'Private room': np.int64(1),\n",
              " 'Shared room': np.int64(2)}"
            ]
          },
          "metadata": {},
          "execution_count": 147
        }
      ]
    },
    {
      "cell_type": "code",
      "source": [
        "sns.boxplot(x='Neighbourhood ', y='Price', data=df2)\n",
        "plt.title('Price by Neighborhood')\n",
        "plt.yscale('log')\n",
        "plt.show()"
      ],
      "metadata": {
        "colab": {
          "base_uri": "https://localhost:8080/",
          "height": 472
        },
        "id": "VG3e5Gm0ZuX2",
        "outputId": "8357f4cc-8f89-42b2-ad6a-627b06c1f59e"
      },
      "execution_count": 148,
      "outputs": [
        {
          "output_type": "display_data",
          "data": {
            "text/plain": [
              "<Figure size 640x480 with 1 Axes>"
            ],
            "image/png": "[encoded data removed]"
          },
          "metadata": {}
        }
      ]
    },
    {
      "cell_type": "code",
      "source": [
        "le.fit(df['Neighbourhood '])\n",
        "dict(zip(le.classes_, le.transform(le.classes_)))"
      ],
      "metadata": {
        "colab": {
          "base_uri": "https://localhost:8080/"
        },
        "id": "DK1YOsnzZzYs",
        "outputId": "e6b640e1-f13b-4bf7-83e7-499b2264d8fc"
      },
      "execution_count": 149,
      "outputs": [
        {
          "output_type": "execute_result",
          "data": {
            "text/plain": [
              "{'Bronx': np.int64(0),\n",
              " 'Brooklyn': np.int64(1),\n",
              " 'Manhattan': np.int64(2),\n",
              " 'Queens': np.int64(3),\n",
              " 'Staten Island': np.int64(4)}"
            ]
          },
          "metadata": {},
          "execution_count": 149
        }
      ]
    },
    {
      "cell_type": "code",
      "source": [
        "#df2['log_price'] = np.log1p(df2['Price'])"
      ],
      "metadata": {
        "id": "pIRSgf6Q1LOh"
      },
      "execution_count": 150,
      "outputs": []
    },
    {
      "cell_type": "code",
      "source": [
        "from sklearn.model_selection import train_test_split\n",
        "\n",
        "train_df, test_df = train_test_split(df2, test_size=0.2, random_state=42)"
      ],
      "metadata": {
        "id": "wGnpNnMNSWJX"
      },
      "execution_count": 151,
      "outputs": []
    },
    {
      "cell_type": "code",
      "source": [
        "from sklearn.preprocessing import StandardScaler\n",
        "\n",
        "scaler = StandardScaler()\n",
        "numeric_cols = ['Number of Records', 'Number Of Reviews', 'Review Scores Rating']\n",
        "\n",
        "train_df[numeric_cols] = scaler.fit_transform(train_df[numeric_cols])\n",
        "test_df[numeric_cols] = scaler.transform(test_df[numeric_cols])"
      ],
      "metadata": {
        "id": "UY91P2r8Sckw"
      },
      "execution_count": 152,
      "outputs": []
    },
    {
      "cell_type": "code",
      "source": [
        "from sklearn.linear_model import LinearRegression\n",
        "from sklearn.metrics import mean_squared_error, r2_score"
      ],
      "metadata": {
        "id": "TvZ9LKO3W7QY"
      },
      "execution_count": 153,
      "outputs": []
    },
    {
      "cell_type": "code",
      "source": [
        "features_1 = ['Room Type']\n",
        "X_train1 = pd.get_dummies(train_df[features_1], drop_first=True)\n",
        "X_test1 = pd.get_dummies(test_df[features_1], drop_first=True)"
      ],
      "metadata": {
        "id": "Qvz13bNpXMme"
      },
      "execution_count": 154,
      "outputs": []
    },
    {
      "cell_type": "code",
      "source": [
        "features_2 = ['Beds']\n",
        "X_train2 = pd.get_dummies(train_df[features_2], drop_first=True)\n",
        "X_test2 = pd.get_dummies(test_df[features_2], drop_first=True)"
      ],
      "metadata": {
        "id": "r4L7EWf5bNqL"
      },
      "execution_count": 155,
      "outputs": []
    },
    {
      "cell_type": "code",
      "source": [
        "features_3 = ['Review Scores Rating']\n",
        "X_train3 = pd.get_dummies(train_df[features_3], drop_first=True)\n",
        "X_test3 = pd.get_dummies(test_df[features_3], drop_first=True)"
      ],
      "metadata": {
        "id": "RPJtqzg4bX48"
      },
      "execution_count": 156,
      "outputs": []
    },
    {
      "cell_type": "code",
      "source": [
        "X_train1, X_test1 = X_train1.align(X_test1, join='left', axis=1, fill_value=0)\n",
        "\n",
        "y_train = np.log1p(train_df['Price'])\n",
        "y_test = np.log1p(test_df['Price'])\n",
        "\n",
        "model1 = LinearRegression()\n",
        "model1.fit(X_train1, y_train)\n",
        "\n",
        "y_train_pred1 = model1.predict(X_train1)\n",
        "y_test_pred1 = model1.predict(X_test1)\n",
        "\n",
        "\n",
        "rmse_train1 = np.sqrt(mean_squared_error(y_train, y_train_pred1))\n",
        "rmse_test1 = np.sqrt(mean_squared_error(y_test, y_test_pred1))\n",
        "r2_train1 = r2_score(y_train, y_train_pred1)\n",
        "r2_test1 = r2_score(y_test, y_test_pred1)\n",
        "\n",
        "print('Feature 1, Room Type\\n\\n')\n",
        "print('RMSE Train:', rmse_train1)\n",
        "print('RMSE Test:', rmse_test1)\n",
        "print('R2 Train:', r2_train1)\n",
        "print('R2 Test:', r2_test1)"
      ],
      "metadata": {
        "colab": {
          "base_uri": "https://localhost:8080/"
        },
        "id": "Grfwk-T_XU3n",
        "outputId": "e1048b63-46df-4fa3-d92e-9a6111c323db"
      },
      "execution_count": 157,
      "outputs": [
        {
          "output_type": "stream",
          "name": "stdout",
          "text": [
            "Feature 1, Room Type\n",
            "\n",
            "\n",
            "RMSE Train: 0.4328704128030438\n",
            "RMSE Test: 0.43481788193046517\n",
            "R2 Train: 0.44434884617135806\n",
            "R2 Test: 0.44692433122103725\n"
          ]
        }
      ]
    },
    {
      "cell_type": "code",
      "source": [
        "X_train2, X_test2 = X_train2.align(X_test2, join='left', axis=1, fill_value=0)\n",
        "\n",
        "y_train = np.log1p(train_df['Price'])\n",
        "y_test = np.log1p(test_df['Price'])\n",
        "\n",
        "model2 = LinearRegression()\n",
        "model2.fit(X_train2, y_train)\n",
        "\n",
        "y_train_pred2 = model2.predict(X_train2)\n",
        "y_test_pred2 = model2.predict(X_test2)\n",
        "\n",
        "\n",
        "rmse_train2 = np.sqrt(mean_squared_error(y_train, y_train_pred2))\n",
        "rmse_test2 = np.sqrt(mean_squared_error(y_test, y_test_pred2))\n",
        "r2_train2 = r2_score(y_train, y_train_pred2)\n",
        "r2_test2 = r2_score(y_test, y_test_pred2)\n",
        "\n",
        "print('Feature 2, Beds\\n\\n')\n",
        "print('RMSE Train:', rmse_train2)\n",
        "print('RMSE Test:', rmse_test2)\n",
        "print('R2 Train:', r2_train2)\n",
        "print('R2 Test:', r2_test2)"
      ],
      "metadata": {
        "colab": {
          "base_uri": "https://localhost:8080/"
        },
        "id": "I3_jWQtFbfMj",
        "outputId": "88979bbb-b1c3-4b84-a3c4-4482b6adb064"
      },
      "execution_count": 158,
      "outputs": [
        {
          "output_type": "stream",
          "name": "stdout",
          "text": [
            "Feature 2, Beds\n",
            "\n",
            "\n",
            "RMSE Train: 0.5301722101941455\n",
            "RMSE Test: 0.5366205719354968\n",
            "R2 Train: 0.1664717271441064\n",
            "R2 Test: 0.1576270811912437\n"
          ]
        }
      ]
    },
    {
      "cell_type": "code",
      "source": [
        "X_train3, X_test3 = X_train3.align(X_test3, join='left', axis=1, fill_value=0)\n",
        "\n",
        "y_train = np.log1p(train_df['Price'])\n",
        "y_test = np.log1p(test_df['Price'])\n",
        "\n",
        "model3 = LinearRegression()\n",
        "model3.fit(X_train3, y_train)\n",
        "\n",
        "y_train_pred3 = model3.predict(X_train3)\n",
        "y_test_pred3 = model3.predict(X_test3)\n",
        "\n",
        "\n",
        "rmse_train3 = np.sqrt(mean_squared_error(y_train, y_train_pred3))\n",
        "rmse_test3 = np.sqrt(mean_squared_error(y_test, y_test_pred3))\n",
        "r2_train3 = r2_score(y_train, y_train_pred3)\n",
        "r2_test3 = r2_score(y_test, y_test_pred3)\n",
        "\n",
        "print('Feature 3, Review Scores Rating\\n\\n')\n",
        "print('RMSE Train:', rmse_train3)\n",
        "print('RMSE Test:', rmse_test3)\n",
        "print('R2 Train:', r2_train3)\n",
        "print('R2 Test:', r2_test3)"
      ],
      "metadata": {
        "colab": {
          "base_uri": "https://localhost:8080/"
        },
        "id": "PjYFBzkAb28m",
        "outputId": "211b256b-20b5-4d34-df7e-b08b39273e27"
      },
      "execution_count": 159,
      "outputs": [
        {
          "output_type": "stream",
          "name": "stdout",
          "text": [
            "Feature 3, Review Scores Rating\n",
            "\n",
            "\n",
            "RMSE Train: 0.5769221483476868\n",
            "RMSE Test: 0.5803105071802142\n",
            "R2 Train: 0.012991619783118802\n",
            "R2 Test: 0.014876614302960944\n"
          ]
        }
      ]
    },
    {
      "cell_type": "code",
      "source": [
        "np.log1p(df2['Price']).mean()"
      ],
      "metadata": {
        "colab": {
          "base_uri": "https://localhost:8080/"
        },
        "id": "x-zQQ2DLcPuC",
        "outputId": "b0954fe0-4d32-46b7-ff32-5de33c445381"
      },
      "execution_count": 160,
      "outputs": [
        {
          "output_type": "execute_result",
          "data": {
            "text/plain": [
              "np.float64(4.860003729377639)"
            ]
          },
          "metadata": {},
          "execution_count": 160
        }
      ]
    },
    {
      "cell_type": "code",
      "source": [
        "# ROOM TYPE MODEL PERFORMED THE BEST"
      ],
      "metadata": {
        "id": "DA40-iQbzh69"
      },
      "execution_count": 161,
      "outputs": []
    },
    {
      "cell_type": "code",
      "source": [
        "X_partial = train_df[['Beds', 'Room Type']]\n",
        "y = np.log1p(train_df['Price'])\n",
        "X_target = train_df[['Review Scores Rating']]\n",
        "\n",
        "model_resid = LinearRegression().fit(X_partial, y)\n",
        "resid_y = y - model_resid.predict(X_partial)\n",
        "\n",
        "model_var = LinearRegression().fit(X_partial, X_target)\n",
        "resid_x = X_target - model_var.predict(X_partial)\n",
        "\n",
        "plt.xlabel('review scores rating residual')\n",
        "plt.ylabel('price residual')\n",
        "\n",
        "plt.scatter(resid_x, resid_y)\n",
        "plt.axhline(0, color='gray', linestyle='--')\n",
        "plt.show()"
      ],
      "metadata": {
        "colab": {
          "base_uri": "https://localhost:8080/",
          "height": 449
        },
        "id": "8eRvqybI5tHG",
        "outputId": "6707fedc-bb2e-408d-88e7-2d65a6408fc5"
      },
      "execution_count": 162,
      "outputs": [
        {
          "output_type": "display_data",
          "data": {
            "text/plain": [
              "<Figure size 640x480 with 1 Axes>"
            ],
            "image/png": "[encoded data removed]"
          },
          "metadata": {}
        }
      ]
    },
    {
      "cell_type": "code",
      "source": [
        "X_partial = train_df[['Beds', 'Review Scores Rating']]\n",
        "y = np.log1p(train_df['Price'])\n",
        "X_target = train_df[['Room Type']]\n",
        "\n",
        "model_resid = LinearRegression().fit(X_partial, y)\n",
        "resid_y = y - model_resid.predict(X_partial)\n",
        "\n",
        "model_var = LinearRegression().fit(X_partial, X_target)\n",
        "resid_x = X_target - model_var.predict(X_partial)\n",
        "\n",
        "plt.xlabel('room type residual')\n",
        "plt.ylabel('price residual')\n",
        "\n",
        "plt.scatter(resid_x, resid_y)\n",
        "plt.axhline(0, color='gray', linestyle='--')\n",
        "plt.show()"
      ],
      "metadata": {
        "colab": {
          "base_uri": "https://localhost:8080/",
          "height": 449
        },
        "id": "McdEvEPBzwzj",
        "outputId": "fb993e6c-b882-4168-c83e-22da136c5d29"
      },
      "execution_count": 163,
      "outputs": [
        {
          "output_type": "display_data",
          "data": {
            "text/plain": [
              "<Figure size 640x480 with 1 Axes>"
            ],
            "image/png": "[encoded data removed]"
          },
          "metadata": {}
        }
      ]
    },
    {
      "cell_type": "code",
      "source": [
        "X_partial = train_df[['Room Type', 'Review Scores Rating']]\n",
        "y = np.log1p(train_df['Price'])\n",
        "X_target = train_df[['Beds']]\n",
        "\n",
        "model_resid = LinearRegression().fit(X_partial, y)\n",
        "resid_y = y - model_resid.predict(X_partial)\n",
        "\n",
        "model_var = LinearRegression().fit(X_partial, X_target)\n",
        "resid_x = X_target - model_var.predict(X_partial)\n",
        "\n",
        "plt.xlabel('beds residual')\n",
        "plt.ylabel('price residual')\n",
        "\n",
        "plt.scatter(resid_x, resid_y)\n",
        "plt.axhline(0, color='gray', linestyle='--')\n",
        "plt.show()"
      ],
      "metadata": {
        "colab": {
          "base_uri": "https://localhost:8080/",
          "height": 449
        },
        "id": "M3QAC3V_z9CP",
        "outputId": "b8213a89-8427-40ed-bf08-b38b1960983d"
      },
      "execution_count": 164,
      "outputs": [
        {
          "output_type": "display_data",
          "data": {
            "text/plain": [
              "<Figure size 640x480 with 1 Axes>"
            ],
            "image/png": "[encoded data removed]"
          },
          "metadata": {}
        }
      ]
    },
    {
      "cell_type": "code",
      "source": [
        "#review scores and beds didn't have much or any linearity\n",
        "#Room type had downward trend which aligns with its model performing the best"
      ],
      "metadata": {
        "id": "v-v7Km1n0KO7"
      },
      "execution_count": 165,
      "outputs": []
    },
    {
      "cell_type": "code",
      "source": [
        "df2['log_beds'] = np.log1p(df2['Beds'])\n",
        "df2['centered_reviews'] = df2['Review Scores Rating'] - df2['Review Scores Rating'].mean()\n",
        "\n"
      ],
      "metadata": {
        "id": "gOYLx-_77pUf"
      },
      "execution_count": 166,
      "outputs": []
    },
    {
      "cell_type": "code",
      "source": [
        "room_dummies = pd.get_dummies(df2['Room Type'], drop_first=True)\n"
      ],
      "metadata": {
        "id": "DnZWKk0t8B54"
      },
      "execution_count": 167,
      "outputs": []
    },
    {
      "cell_type": "code",
      "source": [
        "df2['beds_x_private'] = df2['log_beds'] * df2['room_Private room']\n",
        "df2['beds_x_shared'] = df2['log_beds'] * df2['room_Shared room']\n",
        "df2['beds_x_entire'] = df2['log_beds'] * df2['room_Entire home/apt']\n"
      ],
      "metadata": {
        "id": "GPx-rgxN8GfP"
      },
      "execution_count": 168,
      "outputs": []
    },
    {
      "cell_type": "code",
      "source": [
        "train_df, test_df = train_test_split(df2, test_size=0.2, random_state=42)"
      ],
      "metadata": {
        "id": "9zmliLZh_pL4"
      },
      "execution_count": 169,
      "outputs": []
    },
    {
      "cell_type": "code",
      "source": [
        "scaler = StandardScaler()\n",
        "numeric_cols = ['log_beds', 'centered_reviews', 'beds_x_shared', 'beds_x_private', 'beds_x_entire']\n",
        "\n",
        "train_df[numeric_cols] = scaler.fit_transform(train_df[numeric_cols])\n",
        "test_df[numeric_cols] = scaler.transform(test_df[numeric_cols])"
      ],
      "metadata": {
        "id": "jCbvdxv-_rrz"
      },
      "execution_count": 170,
      "outputs": []
    },
    {
      "cell_type": "code",
      "source": [
        "features_4 = ['log_beds', 'centered_reviews', 'beds_x_shared', 'beds_x_private', 'beds_x_entire']"
      ],
      "metadata": {
        "id": "5lVwfPh99YDp"
      },
      "execution_count": 171,
      "outputs": []
    },
    {
      "cell_type": "code",
      "source": [
        "features_4"
      ],
      "metadata": {
        "colab": {
          "base_uri": "https://localhost:8080/"
        },
        "id": "lE1j2Thu-loA",
        "outputId": "23bd59bc-9313-4a1a-cfa2-e539a3a190d7"
      },
      "execution_count": 172,
      "outputs": [
        {
          "output_type": "execute_result",
          "data": {
            "text/plain": [
              "['log_beds',\n",
              " 'centered_reviews',\n",
              " 'beds_x_shared',\n",
              " 'beds_x_private',\n",
              " 'beds_x_entire']"
            ]
          },
          "metadata": {},
          "execution_count": 172
        }
      ]
    },
    {
      "cell_type": "code",
      "source": [
        "X_train4 = pd.get_dummies(train_df[features_4], drop_first=True)\n",
        "X_test4 = pd.get_dummies(test_df[features_4], drop_first=True)"
      ],
      "metadata": {
        "id": "QROKdsZ0-IrH"
      },
      "execution_count": 173,
      "outputs": []
    },
    {
      "cell_type": "code",
      "source": [
        "X_train4, X_test4 = X_train4.align(X_test4, join='left', axis=1, fill_value=0)\n",
        "\n",
        "y_train = np.log1p(train_df['Price'])\n",
        "y_test = np.log1p(test_df['Price'])\n",
        "\n",
        "model4 = LinearRegression()\n",
        "model4.fit(X_train4, y_train)\n",
        "\n",
        "y_train_pred4 = model4.predict(X_train4)\n",
        "y_test_pred4 = model4.predict(X_test4)\n",
        "\n",
        "\n",
        "rmse_train4 = np.sqrt(mean_squared_error(y_train, y_train_pred4))\n",
        "rmse_test4 = np.sqrt(mean_squared_error(y_test, y_test_pred4))\n",
        "r2_train4 = r2_score(y_train, y_train_pred4)\n",
        "r2_test4 = r2_score(y_test, y_test_pred4)\n",
        "\n",
        "print('Feature 4, Complex')\n",
        "print('RMSE Train:', rmse_train4)\n",
        "print('RMSE Test:', rmse_test4)\n",
        "print('R2 Train:', r2_train4)\n",
        "print('R2 Test:', r2_test4)"
      ],
      "metadata": {
        "colab": {
          "base_uri": "https://localhost:8080/"
        },
        "id": "SP6EmOJj9gtf",
        "outputId": "331041d7-94ef-497a-a57e-15efd9013624"
      },
      "execution_count": 174,
      "outputs": [
        {
          "output_type": "stream",
          "name": "stdout",
          "text": [
            "Feature 4, Complex\n",
            "RMSE Train: 0.40964923770977985\n",
            "RMSE Test: 0.4101386875547214\n",
            "R2 Train: 0.5023652289794467\n",
            "R2 Test: 0.5079250744199291\n"
          ]
        }
      ]
    },
    {
      "cell_type": "code",
      "source": [
        "'''\n",
        "Findings from 1-6:\n",
        "\n",
        "I focused on the features beds, review_scores_rating, and room_type\n",
        "I encoded room_type as 0, 1, and 2 for 'Entire home/apt', 'Private room', and 'Shared room'\n",
        "Out of the simple models, this was the only one that performed decently\n",
        "the others didn’t explain much of the variation in price\n",
        "\n",
        "\n",
        "For the complex model, I log-transformed beds since it was skewed, and I centered review_scores_rating\n",
        "I also added interaction terms for beds × room_type(each type) because i thought the impact of beds\n",
        "might depend on the type of room and that actually helped\n",
        "RMSE dropped a bit, and the R² improved a lot, explaining over 50% of the variation in price\n",
        "\n",
        "What I learned about overfitting, underfitting, and model selection is that simple models\n",
        "can underfit and miss important patterns while more complex models are capable of\n",
        "performing better as long as they are not overfitting. (test by making sure train and test results are similar)\n",
        "'''\n"
      ],
      "metadata": {
        "colab": {
          "base_uri": "https://localhost:8080/",
          "height": 160
        },
        "id": "Eln3336gyV2N",
        "outputId": "ca29e549-fb21-4f7c-95ea-99b8dda73ae1"
      },
      "execution_count": 175,
      "outputs": [
        {
          "output_type": "execute_result",
          "data": {
            "text/plain": [
              "\"\\nFindings from 1-6:\\n\\nI focused on the features beds, review_scores_rating, and room_type\\nI encoded room_type as 0, 1, and 2 for 'Entire home/apt', 'Private room', and 'Shared room'\\nOut of the simple models, this was the only one that performed decently \\nthe others didn’t explain much of the variation in price\\n\\n\\nFor the complex model, I log-transformed beds since it was skewed, and I centered review_scores_rating\\nI also added interaction terms for beds × room_type(each type) because i thought the impact of beds\\nmight depend on the type of room and that actually helped\\nRMSE dropped a bit, and the R² improved a lot, explaining over 50% of the variation in price\\n\\nWhat I learned about overfitting, underfitting, and model selection is that simple models \\ncan underfit and miss important patterns while more complex models are capable of \\nperforming better as long as they are not overfitting. (test by making sure train and test results are similar)\\n\""
            ],
            "application/vnd.google.colaboratory.intrinsic+json": {
              "type": "string"
            }
          },
          "metadata": {},
          "execution_count": 175
        }
      ]
    },
    {
      "cell_type": "code",
      "source": [
        "from sklearn.linear_model import LassoCV\n",
        "\n",
        "lasso = LassoCV(cv=5, random_state=42).fit(X_train4, y_train)\n",
        "\n",
        "\n",
        "y_train_pred = lasso.predict(X_train4)\n",
        "y_test_pred = lasso.predict(X_test4)\n",
        "\n",
        "\n",
        "rmse_train = mean_squared_error(y_train, y_train_pred)\n",
        "rmse_test = mean_squared_error(y_test, y_test_pred)\n",
        "r2_train = r2_score(y_train, y_train_pred)\n",
        "r2_test = r2_score(y_test, y_test_pred)\n",
        "\n",
        "\n",
        "print(\"RMSE Train:\", rmse_train)\n",
        "print(\"RMSE Test:\", rmse_test)\n",
        "print(\"R2 Train: \",r2_train)\n",
        "print(\"R2 Test: \",r2_test)\n"
      ],
      "metadata": {
        "colab": {
          "base_uri": "https://localhost:8080/"
        },
        "id": "sdpM3zIV2gD7",
        "outputId": "1170c0be-d7c2-4183-ada7-506926c3021d"
      },
      "execution_count": 176,
      "outputs": [
        {
          "output_type": "stream",
          "name": "stdout",
          "text": [
            "RMSE Train: 0.16781297391289893\n",
            "RMSE Test: 0.16822748668984536\n",
            "R2 Train:  0.502363817567282\n",
            "R2 Test:  0.5078848701493857\n"
          ]
        },
        {
          "output_type": "stream",
          "name": "stderr",
          "text": [
            "/usr/local/lib/python3.11/dist-packages/sklearn/linear_model/_coordinate_descent.py:695: ConvergenceWarning: Objective did not converge. You might want to increase the number of iterations, check the scale of the features or consider increasing regularisation. Duality gap: 1.424e+00, tolerance: 5.938e-01\n",
            "  model = cd_fast.enet_coordinate_descent(\n"
          ]
        }
      ]
    }
  ],
  "metadata": {
    "kernelspec": {
      "display_name": "base",
      "language": "python",
      "name": "python3"
    },
    "language_info": {
      "codemirror_mode": {
        "name": "ipython",
        "version": 3
      },
      "file_extension": ".py",
      "mimetype": "text/x-python",
      "name": "python",
      "nbconvert_exporter": "python",
      "pygments_lexer": "ipython3",
      "version": "3.12.2"
    },
    "colab": {
      "provenance": []
    }
  },
  "nbformat": 4,
  "nbformat_minor": 0
}